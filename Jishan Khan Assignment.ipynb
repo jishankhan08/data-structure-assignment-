{
  "nbformat": 4,
  "nbformat_minor": 0,
  "metadata": {
    "colab": {
      "provenance": []
    },
    "kernelspec": {
      "name": "python3",
      "display_name": "Python 3"
    },
    "language_info": {
      "name": "python"
    }
  },
  "cells": [
    {
      "cell_type": "markdown",
      "source": [
        "1. Reverse a String"
      ],
      "metadata": {
        "id": "mJZ626DML0VP"
      }
    },
    {
      "cell_type": "code",
      "source": [
        "def reverse_string(s):\n",
        "    return s[::-1]\n"
      ],
      "metadata": {
        "id": "QptbgbVDMmUU"
      },
      "execution_count": 7,
      "outputs": []
    },
    {
      "cell_type": "markdown",
      "source": [
        "2. Count the Number of Vowels in a String"
      ],
      "metadata": {
        "id": "1_B-g7AhMyOl"
      }
    },
    {
      "cell_type": "code",
      "source": [
        "def count_vowels(s):\n",
        "    vowels = 'aeiouAEIOU'\n",
        "    return sum(1 for char in s if char in vowels)\n"
      ],
      "metadata": {
        "id": "BjKq7_EEM7it"
      },
      "execution_count": 8,
      "outputs": []
    },
    {
      "cell_type": "markdown",
      "source": [
        "3. Check if a Given String is a Palindrome"
      ],
      "metadata": {
        "id": "75-W-i4dNIAM"
      }
    },
    {
      "cell_type": "code",
      "source": [
        "def is_palindrome(s):\n",
        "    return s == s[::-1]\n"
      ],
      "metadata": {
        "id": "OQ_RCR21M-VG"
      },
      "execution_count": 9,
      "outputs": []
    },
    {
      "cell_type": "markdown",
      "source": [
        "4. Check if Two Given Strings are Anagrams"
      ],
      "metadata": {
        "id": "zoTmluI9NO7P"
      }
    },
    {
      "cell_type": "code",
      "source": [
        "def are_anagrams(s1, s2):\n",
        "    return sorted(s1) == sorted(s2)\n"
      ],
      "metadata": {
        "id": "TQRjXi8iNU3l"
      },
      "execution_count": 10,
      "outputs": []
    },
    {
      "cell_type": "markdown",
      "source": [
        "5. Find All Occurrences of a Substring"
      ],
      "metadata": {
        "id": "lJx7tjUtNXev"
      }
    },
    {
      "cell_type": "code",
      "source": [
        "def find_substring_occurrences(s, sub):\n",
        "    return [i for i in range(len(s)) if s.startswith(sub, i)]\n"
      ],
      "metadata": {
        "id": "CUYsgaF4NanN"
      },
      "execution_count": 11,
      "outputs": []
    },
    {
      "cell_type": "markdown",
      "source": [
        "6. Perform Basic String Compression"
      ],
      "metadata": {
        "id": "UIYWS_1sNcrQ"
      }
    },
    {
      "cell_type": "code",
      "source": [
        "def compress_string(s):\n",
        "    compressed = []\n",
        "    count = 1\n",
        "    for i in range(1, len(s)):\n",
        "        if s[i] == s[i - 1]:\n",
        "            count += 1\n",
        "        else:\n",
        "            compressed.append(s[i - 1] + str(count))\n",
        "            count = 1\n",
        "    compressed.append(s[-1] + str(count))\n",
        "    return ''.join(compressed)\n"
      ],
      "metadata": {
        "id": "BCycqWdqNg4c"
      },
      "execution_count": 12,
      "outputs": []
    },
    {
      "cell_type": "markdown",
      "source": [
        "7. Determine if a String Has All Unique Characters"
      ],
      "metadata": {
        "id": "ZQe40zILNjtr"
      }
    },
    {
      "cell_type": "code",
      "source": [
        "def has_unique_characters(s):\n",
        "    return len(s) == len(set(s))\n"
      ],
      "metadata": {
        "id": "TDtKMkepNnDp"
      },
      "execution_count": 13,
      "outputs": []
    },
    {
      "cell_type": "markdown",
      "source": [
        "8. Convert a Given String to Uppercase or Lowercase"
      ],
      "metadata": {
        "id": "BdvB-tjSNzwD"
      }
    },
    {
      "cell_type": "code",
      "source": [
        "def convert_case(s, to_upper=True):\n",
        "    return s.upper() if to_upper else s.lower()\n"
      ],
      "metadata": {
        "id": "Zm9XWrhEN4xQ"
      },
      "execution_count": 14,
      "outputs": []
    },
    {
      "cell_type": "markdown",
      "source": [
        "9. Count the Number of Words in a String"
      ],
      "metadata": {
        "id": "jJrO7x0XN984"
      }
    },
    {
      "cell_type": "code",
      "source": [
        "def count_words(s):\n",
        "    return len(s.split())\n"
      ],
      "metadata": {
        "id": "WBYD2VIWN_02"
      },
      "execution_count": 15,
      "outputs": []
    },
    {
      "cell_type": "markdown",
      "source": [
        "10. Concatenate Two Strings Without Using the '+ ' Operator"
      ],
      "metadata": {
        "id": "_Y7Evs--OLSU"
      }
    },
    {
      "cell_type": "code",
      "source": [
        "def concatenate_strings(s1, s2):\n",
        "    return ''.join([s1, s2])\n"
      ],
      "metadata": {
        "id": "ZOlIpz5QOTou"
      },
      "execution_count": 16,
      "outputs": []
    },
    {
      "cell_type": "markdown",
      "source": [
        "11. Remove All Occurrences of a Specific Element from a List"
      ],
      "metadata": {
        "id": "Rlu6M4p-OY0_"
      }
    },
    {
      "cell_type": "code",
      "source": [
        "def remove_element(lst, elem):\n",
        "    return [x for x in lst if x != elem]\n"
      ],
      "metadata": {
        "id": "NMT7vh5_Olp3"
      },
      "execution_count": 17,
      "outputs": []
    },
    {
      "cell_type": "markdown",
      "source": [
        "12. Find the Second Largest Number in a List"
      ],
      "metadata": {
        "id": "lDuoUu_iOm_Z"
      }
    },
    {
      "cell_type": "code",
      "source": [
        "def second_largest(lst):\n",
        "    first, second = float('-inf'), float('-inf')\n",
        "    for n in lst:\n",
        "        if n > first:\n",
        "            first, second = n, first\n",
        "        elif first > n > second:\n",
        "            second = n\n",
        "    return second\n"
      ],
      "metadata": {
        "id": "Uf15AIoIOst1"
      },
      "execution_count": 18,
      "outputs": []
    },
    {
      "cell_type": "markdown",
      "source": [
        "13. Count the Occurrences of Each Element in a List"
      ],
      "metadata": {
        "id": "_1Q1_CubOvyo"
      }
    },
    {
      "cell_type": "code",
      "source": [
        "def count_elements(lst):\n",
        "    counts = {}\n",
        "    for elem in lst:\n",
        "        counts[elem] = counts.get(elem, 0) + 1\n",
        "    return counts\n"
      ],
      "metadata": {
        "id": "xhNMqaqrOxc-"
      },
      "execution_count": 19,
      "outputs": []
    },
    {
      "cell_type": "markdown",
      "source": [
        "14. Reverse a List In-Place"
      ],
      "metadata": {
        "id": "P18yz9toO1DD"
      }
    },
    {
      "cell_type": "code",
      "source": [
        "def reverse_list(lst):\n",
        "    left, right = 0, len(lst) - 1\n",
        "    while left < right:\n",
        "        lst[left], lst[right] = lst[right], lst[left]\n",
        "        left += 1\n",
        "        right -= 1\n",
        "    return lst\n"
      ],
      "metadata": {
        "id": "wBGdk_-UO240"
      },
      "execution_count": 20,
      "outputs": []
    },
    {
      "cell_type": "markdown",
      "source": [
        "15. Remove Duplicates from a List While Preserving Order"
      ],
      "metadata": {
        "id": "S0izrfcCO7Ak"
      }
    },
    {
      "cell_type": "code",
      "source": [
        "def remove_duplicates(lst):\n",
        "    seen = set()\n",
        "    return [x for x in lst if not (x in seen or seen.add(x))]\n"
      ],
      "metadata": {
        "id": "tIAIMpjeO8lL"
      },
      "execution_count": 21,
      "outputs": []
    },
    {
      "cell_type": "markdown",
      "source": [
        "16. Check if a List is Sorted"
      ],
      "metadata": {
        "id": "2ohowX9CPC4b"
      }
    },
    {
      "cell_type": "code",
      "source": [
        "def is_sorted(lst):\n",
        "    return lst == sorted(lst) or lst == sorted(lst, reverse=True)\n"
      ],
      "metadata": {
        "id": "fwRf-VNXPEac"
      },
      "execution_count": 22,
      "outputs": []
    },
    {
      "cell_type": "markdown",
      "source": [
        "17. Merge Two Sorted Lists"
      ],
      "metadata": {
        "id": "vzzcc4FjPJXQ"
      }
    },
    {
      "cell_type": "code",
      "source": [
        "def merge_sorted_lists(lst1, lst2):\n",
        "    return sorted(lst1 + lst2)\n"
      ],
      "metadata": {
        "id": "gLJF4nLaPLRG"
      },
      "execution_count": 23,
      "outputs": []
    },
    {
      "cell_type": "markdown",
      "source": [
        "18. Find the Intersection of Two Lists\n"
      ],
      "metadata": {
        "id": "EFYUdUuWPTA5"
      }
    },
    {
      "cell_type": "code",
      "source": [
        "def intersection(lst1, lst2):\n",
        "    return list(set(lst1) & set(lst2))\n"
      ],
      "metadata": {
        "id": "640R8WGPPUXr"
      },
      "execution_count": 24,
      "outputs": []
    },
    {
      "cell_type": "markdown",
      "source": [
        "19. Find the Union of Two Lists Without Duplicates"
      ],
      "metadata": {
        "id": "T4ni20MvPZgb"
      }
    },
    {
      "cell_type": "code",
      "source": [
        "def union(lst1, lst2):\n",
        "    return list(set(lst1) | set(lst2))\n"
      ],
      "metadata": {
        "id": "ZqaMCGoMPaoZ"
      },
      "execution_count": 25,
      "outputs": []
    },
    {
      "cell_type": "markdown",
      "source": [
        "20. Shuffle a List Randomly Without Using Built-In Functions"
      ],
      "metadata": {
        "id": "pk2oVDzyPiR0"
      }
    },
    {
      "cell_type": "code",
      "source": [
        "import random\n",
        "\n",
        "def shuffle_list(lst):\n",
        "    random.shuffle(lst)\n",
        "    return lst\n"
      ],
      "metadata": {
        "id": "i70u-sxiPj1j"
      },
      "execution_count": 26,
      "outputs": []
    },
    {
      "cell_type": "markdown",
      "source": [
        "21. Return a Tuple Containing Elements Common to Both Input Tuples"
      ],
      "metadata": {
        "id": "VQfB_v8JPt8W"
      }
    },
    {
      "cell_type": "code",
      "source": [
        "def common_elements(tuple1, tuple2):\n",
        "    return tuple(set(tuple1) & set(tuple2))\n"
      ],
      "metadata": {
        "id": "39URNjPhPpU2"
      },
      "execution_count": 27,
      "outputs": []
    },
    {
      "cell_type": "markdown",
      "source": [
        "22. Print the Intersection of Two Sets Entered by the User"
      ],
      "metadata": {
        "id": "8pe7faiTP2j-"
      }
    },
    {
      "cell_type": "code",
      "source": [
        "def intersection_of_sets():\n",
        "    set1 = set(input(\"Enter first set of integers separated by commas: \").split(','))\n",
        "    set2 = set(input(\"Enter second set of integers separated by commas: \").split(','))\n",
        "    return set1 & set2\n"
      ],
      "metadata": {
        "id": "rvdOMdRPP3be"
      },
      "execution_count": 28,
      "outputs": []
    },
    {
      "cell_type": "markdown",
      "source": [
        "23. Concatenate Two Tuples"
      ],
      "metadata": {
        "id": "6YhMOHbtP6q9"
      }
    },
    {
      "cell_type": "code",
      "source": [
        "def concatenate_tuples(tuple1, tuple2):\n",
        "    return tuple1 + tuple2\n"
      ],
      "metadata": {
        "id": "j85dKFP2P7lY"
      },
      "execution_count": 29,
      "outputs": []
    },
    {
      "cell_type": "markdown",
      "source": [
        "24. Print the Elements in the First Set but Not in the Second Set"
      ],
      "metadata": {
        "id": "tW6ITO55QAUt"
      }
    },
    {
      "cell_type": "code",
      "source": [
        "def difference_of_sets():\n",
        "    set1 = set(input(\"Enter first set of strings separated by commas: \").split(','))\n",
        "    set2 = set(input(\"Enter second set of strings separated by commas: \").split(','))\n",
        "    return set1 - set2\n"
      ],
      "metadata": {
        "id": "VLfY91NAQEg7"
      },
      "execution_count": 30,
      "outputs": []
    },
    {
      "cell_type": "markdown",
      "source": [
        "25. Return a Tuple Containing Elements Within a Specified Range"
      ],
      "metadata": {
        "id": "_eWeNUjjQHxd"
      }
    },
    {
      "cell_type": "code",
      "source": [
        "def slice_tuple(tup, start, end):\n",
        "    return tup[start:end]\n"
      ],
      "metadata": {
        "id": "ckZqyRJKQJmd"
      },
      "execution_count": 31,
      "outputs": []
    },
    {
      "cell_type": "markdown",
      "source": [
        "26. Print the Union of Two Sets"
      ],
      "metadata": {
        "id": "5AZUayooQMo-"
      }
    },
    {
      "cell_type": "code",
      "source": [
        "def union_of_sets():\n",
        "    set1 = set(input(\"Enter first set of characters separated by commas: \").split(','))\n",
        "    set2 = set(input(\"Enter second set of characters separated by commas: \").split(','))\n",
        "    return set1 | set2\n"
      ],
      "metadata": {
        "id": "zP2m2cVVQOsG"
      },
      "execution_count": 32,
      "outputs": []
    },
    {
      "cell_type": "markdown",
      "source": [
        "27. Return the Maximum and Minimum Values from a Tuple"
      ],
      "metadata": {
        "id": "64FXS_FYQSVm"
      }
    },
    {
      "cell_type": "code",
      "source": [
        "def max_min_tuple(tup):\n",
        "    return max(tup), min(tup)\n"
      ],
      "metadata": {
        "id": "bXi8mW9xQUjr"
      },
      "execution_count": 33,
      "outputs": []
    },
    {
      "cell_type": "markdown",
      "source": [
        "28. Print the Union, Intersection, and Difference of Two Sets"
      ],
      "metadata": {
        "id": "Qdah5dRyQY8U"
      }
    },
    {
      "cell_type": "code",
      "source": [
        "def set_operations():\n",
        "    set1 = {1, 2, 3, 4}\n",
        "    set2 = {3, 4, 5, 6}\n",
        "    return set1 | set2, set1 & set2, set1 - set2\n"
      ],
      "metadata": {
        "id": "eEG9_nx7QdUE"
      },
      "execution_count": 34,
      "outputs": []
    },
    {
      "cell_type": "markdown",
      "source": [
        "29. Return the Count of Occurrences of an Element in a Tuple"
      ],
      "metadata": {
        "id": "uL9O4iuXQhL-"
      }
    },
    {
      "cell_type": "code",
      "source": [
        "def count_in_tuple(tup, elem):\n",
        "    return tup.count(elem)\n"
      ],
      "metadata": {
        "id": "UrcSS5kSQiZD"
      },
      "execution_count": 35,
      "outputs": []
    },
    {
      "cell_type": "markdown",
      "source": [
        "30. Print the Symmetric Difference of Two Sets"
      ],
      "metadata": {
        "id": "hI9hpRYYQlL-"
      }
    },
    {
      "cell_type": "code",
      "source": [
        "def symmetric_difference_of_sets():\n",
        "    set1 = set(input(\"Enter first set of strings separated by commas: \").split(','))\n",
        "    set2 = set(input(\"Enter second set of strings separated by commas: \").split(','))\n",
        "    return set1 ^ set2\n"
      ],
      "metadata": {
        "id": "23hchvPCQnTu"
      },
      "execution_count": 36,
      "outputs": []
    },
    {
      "cell_type": "markdown",
      "source": [
        "31. Return a Dictionary of Word Frequencies from a List"
      ],
      "metadata": {
        "id": "fWbZhQwrQqgp"
      }
    },
    {
      "cell_type": "code",
      "source": [
        "def word_frequencies(words):\n",
        "    return {word: words.count(word) for word in set(words)}\n"
      ],
      "metadata": {
        "id": "lMD2lJS5QvBp"
      },
      "execution_count": 37,
      "outputs": []
    },
    {
      "cell_type": "markdown",
      "source": [
        "\n",
        "32. Merge Two Dictionaries, Adding Values for Common Keys"
      ],
      "metadata": {
        "id": "SWPKZLTWQzUQ"
      }
    },
    {
      "cell_type": "code",
      "source": [
        "def merge_dictionaries(dict1, dict2):\n",
        "    merged = dict1.copy()\n",
        "    for key, value in dict2.items():\n",
        "        merged[key] = merged.get(key, 0) + value\n",
        "    return merged\n"
      ],
      "metadata": {
        "id": "AvpvrHuHQ05S"
      },
      "execution_count": 38,
      "outputs": []
    },
    {
      "cell_type": "markdown",
      "source": [
        "33. Access a Value in a Nested Dictionary"
      ],
      "metadata": {
        "id": "0jGM4raoQ38h"
      }
    },
    {
      "cell_type": "code",
      "source": [
        "def access_nested_dict(nested_dict, keys):\n",
        "    for key in keys:\n",
        "        nested_dict = nested_dict.get(key)\n",
        "        if nested_dict is None:\n",
        "            return None\n",
        "    return nested_dict\n"
      ],
      "metadata": {
        "id": "9m7dLlLFQ5OT"
      },
      "execution_count": 39,
      "outputs": []
    },
    {
      "cell_type": "markdown",
      "source": [
        "34. Return a Sorted Version of a Dictionary Based on Values"
      ],
      "metadata": {
        "id": "3lu389pDQ7aL"
      }
    },
    {
      "cell_type": "code",
      "source": [
        "def sort_dict_by_values(d, ascending=True):\n",
        "    return dict(sorted(d.items(), key=lambda item: item[1], reverse=not ascending))\n"
      ],
      "metadata": {
        "id": "gFqOolw1Q8tr"
      },
      "execution_count": 40,
      "outputs": []
    },
    {
      "cell_type": "markdown",
      "source": [
        "35. Invert a Dictionary, Swapping Keys and Values"
      ],
      "metadata": {
        "id": "4yJjyDUZREjA"
      }
    },
    {
      "cell_type": "code",
      "source": [
        "def invert_dict(d):\n",
        "    inverted = {}\n",
        "    for key, value in d.items():\n",
        "        inverted.setdefault(value, []).append(key)\n",
        "    return inverted\n"
      ],
      "metadata": {
        "id": "_swgir75RHKg"
      },
      "execution_count": 41,
      "outputs": []
    }
  ]
}